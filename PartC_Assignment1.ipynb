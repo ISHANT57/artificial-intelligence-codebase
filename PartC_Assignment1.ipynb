{
 "cells": [
  {
   "cell_type": "markdown",
   "metadata": {},
   "source": [
    "# Part C – A* Search on a Maze 🗺️\n",
    "\n",
    "This notebook demonstrates the A* search algorithm to find the shortest path in a 2D maze. We will implement the core algorithm and then explore how different heuristic functions affect its performance and optimality.\n",
    "\n",
    "## 1. Core A* Search Implementation\n",
    "\n",
    "The maze is represented as a 2D matrix:\n",
    "- `1` = Wall (impassable)\n",
    "- `0` = Free Path (passable)\n",
    "- **A** = Start Point\n",
    "- **B** = Goal Point\n",
    "\n",
    "A* uses an `f-score` to decide which node to explore next, calculated as: \n",
    "$$f(n) = g(n) + h(n)$$\n",
    "\n",
    "- **g(n)**: The actual cost from the start node to node `n`.\n",
    "- **h(n)**: The estimated cost from node `n` to the goal node (the heuristic).\n",
    "\n",
    "We use **Manhattan distance** as our base heuristic. It is calculated by summing the absolute differences of the coordinates. This heuristic is both **admissible** (it never overestimates the true cost) and **consistent** (it obeys the triangle inequality), which guarantees an optimal solution. \n",
    "\n",
    "!"
   ]
  },
  {
   "cell_type": "code",
   "execution_count": 1,
   "metadata": {},
   "outputs": [
    {
     "name": "stdout",
     "output_type": "stream",
     "text": [
      "Starting A* Pathfinding...\n",
      "Grid Dimensions: (10, 10)\n",
      "Start Position: (0, 0)\n",
      "Goal Position: (9, 9)\n",
      "\n",
      "Path successfully found!\n",
      "Total cost of the path: 18\n"
     ]
    },
    {
     "data": {
      "image/png": "[encoded data removed]",
      "text/plain": [
       "<Figure size 1000x1000 with 1 Axes>"
      ]
     },
     "metadata": {},
     "output_type": "display_data"
    }
   ],
   "source": [
    "import heapq\n",
    "import numpy as np\n",
    "import matplotlib.pyplot as plt\n",
    "\n",
    "def manhattan_distance(node_a, node_b):\n",
    "    (r1, c1) = node_a\n",
    "    (r2, c2) = node_b\n",
    "    return abs(r1 - r2) + abs(c1 - c2)\n",
    "\n",
    "def trace_path(parent_map, start_node, end_node):\n",
    "    path = [end_node]\n",
    "    current_node = end_node\n",
    "    while current_node != start_node:\n",
    "        current_node = parent_map[current_node]\n",
    "        path.append(current_node)\n",
    "    return path[::-1]\n",
    "\n",
    "def find_path_astar(grid, start_pos, end_pos, heuristic_func=manhattan_distance):\n",
    "    grid_rows, grid_cols = grid.shape\n",
    "    priority_queue = [(0, start_pos)]\n",
    "    parent_nodes = {}\n",
    "    cost_from_start = {start_pos: 0}\n",
    "    estimated_total_cost = {start_pos: heuristic_func(start_pos, end_pos)}\n",
    "    \n",
    "    while priority_queue:\n",
    "        _, current_node = heapq.heappop(priority_queue)\n",
    "        \n",
    "        if current_node == end_pos:\n",
    "            path = trace_path(parent_nodes, start_pos, end_pos)\n",
    "            cost = cost_from_start[end_pos]\n",
    "            return path, cost\n",
    "            \n",
    "        moves = [(-1, 0), (1, 0), (0, -1), (0, 1)]\n",
    "        \n",
    "        for move_r, move_c in moves:\n",
    "            neighbor_pos = (current_node[0] + move_r, current_node[1] + move_c)\n",
    "            \n",
    "            if not (0 <= neighbor_pos[0] < grid_rows and 0 <= neighbor_pos[1] < grid_cols):\n",
    "                continue\n",
    "            if grid[neighbor_pos] == 1:\n",
    "                continue\n",
    "            \n",
    "            tentative_cost = cost_from_start[current_node] + 1\n",
    "            \n",
    "            if tentative_cost < cost_from_start.get(neighbor_pos, float('inf')):\n",
    "                parent_nodes[neighbor_pos] = current_node\n",
    "                cost_from_start[neighbor_pos] = tentative_cost\n",
    "                \n",
    "                f_score = tentative_cost + heuristic_func(neighbor_pos, end_pos)\n",
    "                heapq.heappush(priority_queue, (f_score, neighbor_pos))\n",
    "                \n",
    "    return None, 0\n",
    "\n",
    "def draw_grid(grid, path=None, start=None, end=None):\n",
    "    grid_viz = grid.copy().astype(float)\n",
    "    \n",
    "    if path:\n",
    "        for r, c in path:\n",
    "            grid_viz[r, c] = 0.6\n",
    "    \n",
    "    plt.figure(figsize=(10, 10))\n",
    "    plt.imshow(grid_viz, cmap='magma', interpolation='nearest')\n",
    "    plt.title(\"A* Pathfinding Result\")\n",
    "    \n",
    "    if start:\n",
    "        plt.plot(start[1], start[0], 'go', markersize=15, label='Start')\n",
    "    if end:\n",
    "        plt.plot(end[1], end[0], 'rx', markersize=20, label='Goal')\n",
    "\n",
    "    plt.xticks([])\n",
    "    plt.yticks([])\n",
    "    plt.legend()\n",
    "    plt.show()\n",
    "\n",
    "grid_layout = [\n",
    "    [0, 0, 0, 0, 0, 0, 1, 0, 0, 0],\n",
    "    [0, 1, 1, 0, 1, 0, 1, 0, 1, 0],\n",
    "    [0, 1, 0, 0, 1, 0, 0, 0, 1, 0],\n",
    "    [0, 1, 0, 1, 1, 1, 1, 0, 1, 0],\n",
    "    [0, 0, 0, 0, 0, 0, 0, 0, 0, 0],\n",
    "    [0, 1, 1, 1, 1, 1, 1, 1, 1, 0],\n",
    "    [0, 0, 0, 0, 0, 0, 0, 0, 0, 0],\n",
    "    [0, 1, 1, 0, 1, 1, 1, 0, 1, 0],\n",
    "    [0, 0, 0, 0, 1, 0, 0, 0, 1, 0],\n",
    "    [1, 1, 1, 0, 0, 0, 1, 0, 0, 0]\n",
    "]\n",
    "\n",
    "grid = np.array(grid_layout)\n",
    "start_point = (0, 0)\n",
    "goal_point = (9, 9)\n",
    "\n",
    "print(\"Starting A* Pathfinding...\")\n",
    "print(f\"Grid Dimensions: {grid.shape}\")\n",
    "print(f\"Start Position: {start_point}\")\n",
    "print(f\"Goal Position: {goal_point}\\n\")\n",
    "\n",
    "found_path, path_cost = find_path_astar(grid, start_point, goal_point)\n",
    "\n",
    "if found_path:\n",
    "    print(\"Path successfully found!\")\n",
    "    print(f\"Total cost of the path: {path_cost}\")\n",
    "    \n",
    "    draw_grid(grid, path=found_path, start=start_point, end=goal_point)\n",
    "else:\n",
    "    print(\"Could not find a path from the start to the goal.\")"
   ]
  },
  {
   "cell_type": "markdown",
   "metadata": {},
   "source": [
    "--- \n",
    "\n",
    "## 2. Modified Heuristics\n",
    "\n",
    "Let's observe the behavior of A* when the heuristic is modified. A key property of A* is its optimality, which is guaranteed when using an **admissible** and **consistent** heuristic.\n",
    "\n",
    "### Case 1: Scaled Heuristic (Inadmissible)\n",
    "\n",
    "We multiply the Manhattan distance by a factor of 1.5. This new heuristic is **inadmissible** because it can now overestimate the cost to the goal. While this may cause the algorithm to find a path faster by more aggressively moving towards the goal, it can no longer guarantee the path is the shortest possible."
   ]
  },
  {
   "cell_type": "code",
   "execution_count": 2,
   "metadata": {},
   "outputs": [
    {
     "name": "stdout",
     "output_type": "stream",
     "text": [
      "Case 1: A* with Scaled Manhattan Distance (1.5x)\n",
      "Path found with cost: 18\n",
      "Is optimal: True\n"
     ]
    },
    {
     "data": {
      "image/png": "[encoded data removed]",
      "text/plain": [
       "<Figure size 1000x1000 with 1 Axes>"
      ]
     },
     "metadata": {},
     "output_type": "display_data"
    }
   ],
   "source": [
    "def scaled_manhattan(node_a, node_b):\n",
    "    return 1.5 * manhattan_distance(node_a, node_b)\n",
    "\n",
    "print(\"Case 1: A* with Scaled Manhattan Distance (1.5x)\")\n",
    "scaled_path, scaled_cost = find_path_astar(grid, start_point, goal_point, scaled_manhattan)\n",
    "\n",
    "if scaled_path:\n",
    "    print(f\"Path found with cost: {scaled_cost}\")\n",
    "    print(f\"Is optimal: {scaled_cost == path_cost}\")\n",
    "    draw_grid(grid, path=scaled_path, start=start_point, end=goal_point)\n",
    "else:\n",
    "    print(\"No path found with scaled Manhattan distance.\")"
   ]
  },
  {
   "cell_type": "markdown",
   "metadata": {},
   "source": [
    "--- \n",
    "\n",
    "### Case 2: Inconsistent Heuristic\n",
    "\n",
    "A heuristic is **consistent** if, for any node `n` and its neighbor `n'`, the following holds: \n",
    "$$h(n) \\leq d(n, n') + h(n')$$\n",
    "\n",
    "Here, `d(n, n')` is the cost to move between the nodes, which is 1 in our grid. An inconsistent heuristic violates this property for at least one edge. This can cause the algorithm to re-expand nodes, as it may discover a more optimal path to a node it has already closed. Let's create an inconsistent heuristic by artificially inflating the `h-score` for a specific node on the path."
   ]
  },
  {
   "cell_type": "code",
   "execution_count": 3,
   "metadata": {},
   "outputs": [
    {
     "name": "stdout",
     "output_type": "stream",
     "text": [
      "Case 2: A* with Inconsistent Manhattan Distance\n",
      "Path found with cost: 18\n",
      "Is optimal: True\n"
     ]
    },
    {
     "data": {
      "image/png": "[encoded data removed]",
      "text/plain": [
       "<Figure size 1000x1000 with 1 Axes>"
      ]
     },
     "metadata": {},
     "output_type": "display_data"
    }
   ],
   "source": [
    "def inconsistent_manhattan(node_a, node_b):\n",
    "    if node_a == (4, 4):\n",
    "        return manhattan_distance(node_a, node_b) + 10\n",
    "    return manhattan_distance(node_a, node_b)\n",
    "\n",
    "print(\"Case 2: A* with Inconsistent Manhattan Distance\")\n",
    "inconsistent_path, inconsistent_cost = find_path_astar(grid, start_point, goal_point, inconsistent_manhattan)\n",
    "\n",
    "if inconsistent_path:\n",
    "    print(f\"Path found with cost: {inconsistent_cost}\")\n",
    "    print(f\"Is optimal: {inconsistent_cost == path_cost}\")\n",
    "    draw_grid(grid, path=inconsistent_path, start=start_point, end=goal_point)\n",
    "else:\n",
    "    print(\"No path found with inconsistent Manhattan distance.\")"
   ]
  },
  {
   "cell_type": "markdown",
   "metadata": {},
   "source": [
    "--- \n",
    "\n",
    "## 3. Summary of Results\n",
    "\n"
   ]
  },
  {
   "cell_type": "code",
   "execution_count": 6,
   "id": "f7332656",
   "metadata": {},
   "outputs": [
    {
     "name": "stdout",
     "output_type": "stream",
     "text": [
      "Summary of Results\n",
      "Heuristic Type | Path Cost | Optimal\n",
      "---------------|-----------|---------\n",
      "Manhattan      |        18 | True\n",
      "Scaled (1.5x)  |        18 | True\n",
      "Inconsistent   |        18 | True\n"
     ]
    }
   ],
   "source": [
    "print(\"Summary of Results\")\n",
    "print(\"Heuristic Type | Path Cost | Optimal\")\n",
    "print(\"---------------|-----------|---------\")\n",
    "print(f\"Manhattan      | {path_cost:9} | {scaled_cost == path_cost if found_path else 'N/A'}\")\n",
    "if scaled_path:\n",
    "    print(f\"Scaled (1.5x)  | {scaled_cost:9} | {scaled_cost == path_cost}\")\n",
    "if inconsistent_path:\n",
    "    print(f\"Inconsistent   | {inconsistent_cost:9} | {inconsistent_cost == path_cost}\")\n",
    "    \n",
    "    \n"
   ]
  },
  {
   "cell_type": "code",
   "execution_count": 7,
   "id": "49d9b1a2",
   "metadata": {},
   "outputs": [
    {
     "data": {
      "image/png": "[encoded data removed]",
      "text/plain": [
       "<Figure size 1500x500 with 3 Axes>"
      ]
     },
     "metadata": {},
     "output_type": "display_data"
    }
   ],
   "source": [
    "fig, axes = plt.subplots(1, 3, figsize=(15, 5))\n",
    "\n",
    "paths = [found_path, scaled_path, inconsistent_path]\n",
    "titles = [\"Manhattan\", \"Scaled Manhattan (1.5x)\", \"Inconsistent Manhattan\"]\n",
    "\n",
    "for i, (ax, path, title) in enumerate(zip(axes, paths, titles)):\n",
    "    grid_viz = grid.copy().astype(float)\n",
    "    \n",
    "    if path:\n",
    "        for r, c in path:\n",
    "            grid_viz[r, c] = 0.6\n",
    "    \n",
    "    ax.imshow(grid_viz, cmap='magma', interpolation='nearest')\n",
    "    ax.set_title(title)\n",
    "    ax.plot(start_point[1], start_point[0], 'go', markersize=10)\n",
    "    ax.plot(goal_point[1], goal_point[0], 'rx', markersize=15)\n",
    "    ax.set_xticks([])\n",
    "    ax.set_yticks([])\n",
    "\n",
    "plt.tight_layout()\n",
    "plt.show()"
   ]
  },
  {
   "cell_type": "code",
   "execution_count": null,
   "id": "870bee42",
   "metadata": {},
   "outputs": [],
   "source": []
  }
 ],
 "metadata": {
  "kernelspec": {
   "display_name": "Python 3",
   "language": "python",
   "name": "python3"
  },
  "language_info": {
   "codemirror_mode": {
    "name": "ipython",
    "version": 3
   },
   "file_extension": ".py",
   "mimetype": "text/x-python",
   "name": "python",
   "nbconvert_exporter": "python",
   "pygments_lexer": "ipython3",
   "version": "3.13.7"
  }
 },
 "nbformat": 4,
 "nbformat_minor": 5
}
